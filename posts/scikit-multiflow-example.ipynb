{
 "cells": [
  {
   "cell_type": "code",
   "execution_count": null,
   "id": "e2453fa9",
   "metadata": {},
   "outputs": [],
   "source": [
    "import pandas as pd"
   ]
  },
  {
   "cell_type": "code",
   "execution_count": null,
   "id": "a57633b5",
   "metadata": {},
   "outputs": [],
   "source": [
    "from skmultiflow.data.sea_generator import SEAGenerator\n",
    "\n",
    "stream = SEAGenerator(classification_function = 2, \n",
    "                      random_state = 112, \n",
    "                      balance_classes = False, \n",
    "                      noise_percentage = 0.28)\n"
   ]
  },
  {
   "cell_type": "code",
   "execution_count": null,
   "id": "b465ef3d",
   "metadata": {},
   "outputs": [],
   "source": [
    "X, y = stream.next_sample(1000)"
   ]
  },
  {
   "cell_type": "code",
   "execution_count": null,
   "id": "78c818c9",
   "metadata": {},
   "outputs": [],
   "source": [
    "df = pd.DataFrame(X, columns=['X1','X2','X3'])\n",
    "df['target'] = y\n",
    "df.head()"
   ]
  },
  {
   "cell_type": "code",
   "execution_count": null,
   "id": "301ae144",
   "metadata": {},
   "outputs": [],
   "source": [
    "from skmultiflow.meta import AdaptiveRandomForestRegressor\n",
    "\n",
    "model = AdaptiveRandomForestRegressor()\n",
    "\n",
    "model.fit(X, y)\n"
   ]
  },
  {
   "cell_type": "code",
   "execution_count": null,
   "id": "05b116e0",
   "metadata": {},
   "outputs": [],
   "source": [
    "from skmultiflow.drift_detection.adwin import ADWIN\n",
    "\n",
    "change_detector = ADWIN()\n",
    "\n",
    "while stream.has_more_samples():\n",
    "    X_i, y_i = stream.next_sample()\n",
    "\n",
    "    pred = model.predict(X_i)\n",
    "\n",
    "    err = int(pred != y_i)\n",
    "    change_detector.add_element(err)\n",
    "\n",
    "    if change_detector.detected_change():\n",
    "        print('Detected change')\n"
   ]
  },
  {
   "cell_type": "code",
   "execution_count": null,
   "id": "2bba1dc3",
   "metadata": {},
   "outputs": [],
   "source": [
    "from datasetsforecast.m3 import M3\n",
    "\n",
    "dataset, *_ = M3.load('./data', 'Quarterly')\n",
    "\n",
    "series = dataset.query(f'unique_id==\"Q1\"')"
   ]
  },
  {
   "cell_type": "code",
   "execution_count": null,
   "id": "acde2249",
   "metadata": {},
   "outputs": [],
   "source": [
    "from plotnine import *\n",
    "\n",
    "plot = \\\n",
    "    ggplot(series.reset_index()) + \\\n",
    "    aes(x='index', y='y', group=1) + \\\n",
    "    theme_538(base_family='Palatino', base_size=12) + \\\n",
    "    theme(plot_margin=.125,\n",
    "          axis_text=element_text(size=12),\n",
    "          panel_background=element_rect(fill='white'),\n",
    "          plot_background=element_rect(fill='white'),\n",
    "          legend_box_background=element_rect(fill='white'),\n",
    "          strip_background=element_rect(fill='white'),\n",
    "          legend_background=element_rect(fill='white'),\n",
    "          legend_title=element_blank(),\n",
    "          axis_text_x=element_blank(),\n",
    "          legend_position=None) + \\\n",
    "    geom_line(color='black', size=1) + labs(x='', y='')\n",
    "\n",
    "plot + theme(figure_size=(13,6))"
   ]
  }
 ],
 "metadata": {
  "kernelspec": {
   "display_name": "Python 3 (ipykernel)",
   "language": "python",
   "name": "python3"
  },
  "language_info": {
   "codemirror_mode": {
    "name": "ipython",
    "version": 3
   },
   "file_extension": ".py",
   "mimetype": "text/x-python",
   "name": "python",
   "nbconvert_exporter": "python",
   "pygments_lexer": "ipython3",
   "version": "3.9.15"
  }
 },
 "nbformat": 4,
 "nbformat_minor": 5
}
